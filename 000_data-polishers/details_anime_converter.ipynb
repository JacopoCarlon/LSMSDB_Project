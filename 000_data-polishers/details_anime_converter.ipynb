{
 "cells": [
  {
   "cell_type": "code",
   "execution_count": 7,
   "metadata": {},
   "outputs": [
    {
     "name": "stderr",
     "output_type": "stream",
     "text": [
      "UsageError: Line magic function `%%python` not found.\n"
     ]
    }
   ],
   "source": [
    "#   %pip install pandas\n"
   ]
  },
  {
   "cell_type": "code",
   "execution_count": 3,
   "metadata": {},
   "outputs": [],
   "source": [
    "import sys\n",
    "import os\n",
    "import argparse\n",
    "import csv\n",
    "import json\n",
    "import pandas as pd\n"
   ]
  },
  {
   "cell_type": "code",
   "execution_count": 6,
   "metadata": {},
   "outputs": [],
   "source": [
    "already_created_dst_file = True\n",
    "#   - anime : [animeID, (count_reviews), avg_reviews ] \n",
    "#   - anime : details [animeID, episodes, ... ]\n",
    "\n",
    "if already_created_dst_file is not True :\n",
    "    #   read current file\n",
    "    filename = './000_unpolished_csv/anime_cleaned.csv'\n",
    "    firaw = pd.read_csv(filename, nrows= 10)\n",
    "    \n",
    "    print(f'head : {firaw.columns.values}')\n",
    "    #   head : ['anime_id' 'title' 'title_english' 'title_japanese' 'title_synonyms'\n",
    "    #           'image_url' 'type' 'source' 'episodes' 'status' 'airing' 'aired_string'\n",
    "    #           'aired' 'duration' 'rating' 'score' 'scored_by' 'rank' 'popularity'\n",
    "    #           'members' 'favorites' 'background' 'premiered' 'broadcast' 'related'\n",
    "    #           'producer' 'licensor' 'studio' 'genre' 'opening_theme' 'ending_theme'\n",
    "    #           'duration_min' 'aired_from_year']\n",
    "    #   print(f'{firaw.iloc[0]}')\n",
    "    \n",
    "    f_anime_details = './final_csv/anime_details.csv'\n",
    "    if not os.path.exists(f_anime_details):\n",
    "        with open(f_anime_details, 'w'): pass   \n",
    "\n",
    "#   copy related only if type is not manga"
   ]
  },
  {
   "cell_type": "markdown",
   "metadata": {},
   "source": [
    "    head : ['anime_id' 'title' 'title_english' 'title_japanese' 'title_synonyms'\n",
    "     'image_url' 'type' 'source' 'episodes' 'status' 'airing' 'aired_string'\n",
    "     'aired' 'duration' 'rating' 'score' 'scored_by' 'rank' 'popularity'\n",
    "     'members' 'favorites' 'background' 'premiered' 'broadcast' 'related'\n",
    "     'producer' 'licensor' 'studio' 'genre' 'opening_theme' 'ending_theme'\n",
    "     'duration_min' 'aired_from_year']\n",
    "    anime_id                                                       11013\n",
    "    title                                                  Inu x Boku SS\n",
    "    title_english                              Inu X Boku Secret Service\n",
    "    title_japanese                                                妖狐×僕SS\n",
    "    title_synonyms                                       Youko x Boku SS\n",
    "    type                                                              TV\n",
    "    source                                                         Manga\n",
    "    episodes                                                          12\n",
    "    status                                               Finished Airing\n",
    "    airing                                                         False\n",
    "    aired_string                            Jan 13, 2012 to Mar 30, 2012\n",
    "    aired                     {'from': '2012-01-13', 'to': '2012-03-30'}\n",
    "    duration                                             24 min. per ep.\n",
    "    rating                                     PG-13 - Teens 13 or older\n",
    "    score                                                           7.63\n",
    "    scored_by                                                     139250\n",
    "    rank                                                          1274.0\n",
    "    popularity                                                       231\n",
    "    members                                                       283882\n",
    "    favorites                                                       2809\n",
    "    background         Inu x Boku SS was licensed by Sentai Filmworks...\n",
    "    premiered                                                Winter 2012\n",
    "    broadcast                                         Fridays at Unknown\n",
    "    related            {'Adaptation': [{'mal_id': 17207, 'type': 'man...\n",
    "    producer           Aniplex, Square Enix, Mainichi Broadcasting Sy...\n",
    "    licensor                                            Sentai Filmworks\n",
    "    studio                                              David Production\n",
    "    genre                         Comedy, Supernatural, Romance, Shounen\n",
    "    duration_min                                                    24.0\n",
    "    aired_from_year                                               2012.0\n",
    "\n"
   ]
  },
  {
   "cell_type": "code",
   "execution_count": 38,
   "metadata": {},
   "outputs": [
    {
     "name": "stdout",
     "output_type": "stream",
     "text": [
      "0      [Comedy, Supernatural, Romance, Shounen]\n",
      "1    [Comedy, Parody, Romance, School, Shounen]\n",
      "2               [Comedy, Magic, School, Shoujo]\n",
      "3      [Comedy, Drama, Magic, Romance, Fantasy]\n",
      "4             [Comedy, Drama, Romance, Shounen]\n",
      "Name: genre, dtype: object\n"
     ]
    },
    {
     "name": "stderr",
     "output_type": "stream",
     "text": [
      "C:\\Users\\Admin\\AppData\\Local\\Temp\\ipykernel_13992\\1263571475.py:50: SettingWithCopyWarning: \n",
      "A value is trying to be set on a copy of a slice from a DataFrame.\n",
      "Try using .loc[row_indexer,col_indexer] = value instead\n",
      "\n",
      "See the caveats in the documentation: https://pandas.pydata.org/pandas-docs/stable/user_guide/indexing.html#returning-a-view-versus-a-copy\n",
      "  extracted['genre'] = extracted['genre'].str.split(', ')\n"
     ]
    }
   ],
   "source": [
    "list_anime_details = [\n",
    "                'anime_id' , 'title' , 'title_english' , 'title_japanese' , \n",
    "                'title_synonyms' , 'type' , 'source' , 'episodes' , \n",
    "                'status' , 'airing' , 'aired_string' , 'aired' , \n",
    "                'duration' , 'rating' , 'score' , 'scored_by' , \n",
    "                'rank' , 'popularity' , 'members' , 'favorites' , \n",
    "                'background' , 'premiered' , 'broadcast' , 'related' , \n",
    "                'producer' , 'licensor' , 'studio' , 'genre' , \n",
    "                'duration_min' , 'aired_from_year' \n",
    "                ]\n",
    "#   print(f'lenght of target cols : {len(list_anime_details)}') #30\n",
    "\n",
    "\n",
    "transfer_data = False\n",
    "\n",
    "if transfer_data == True:\n",
    "    import pandas as pd\n",
    "    import ast\n",
    "\n",
    "    # read from source\n",
    "    src = './000_unpolished_csv/anime_cleaned.csv'\n",
    "    file_base = pd.read_csv(src)\n",
    "    extracted = file_base[list_anime_details]\n",
    "    #   #   print(extracted.columns.values.size)    #30\n",
    "\n",
    "    # purify 'related' removing mangas\n",
    "    for i in range(len(extracted)):\n",
    "        rels = extracted.loc[i, 'related']\n",
    "        #   print(type(rels))\n",
    "        #   print(f'rels : {rels}' )\n",
    "        rdic = ast.literal_eval(rels)\n",
    "        #   print( type(rdic) )\n",
    "        #   print(f'rdic : {rdic}' )\n",
    "\n",
    "        if len(rdic) > 0:\n",
    "            for k,v in list(rdic.items()):\n",
    "                #   print(v[0]['type'])\n",
    "                if v[0]['type'] == 'manga' :\n",
    "                    del rdic[k]\n",
    "            #   print(rdic)\n",
    "            extracted.loc[i, 'related'] = str(rdic)\n",
    "    \n",
    "\n",
    "\n",
    "    # make genre from string to list of strings\n",
    "    #   #   print(f'DBG : BEFORE purification')\n",
    "    #   #   print(extracted.iloc[0:5]['genre'])\n",
    "    #   print( f' type of genre was : {type(extracted.iloc[0]['genre'])}' )\n",
    "    #   #   print(f'DBG : AFTER purification')\n",
    "    extracted['genre'] = extracted['genre'].str.split(', ')\n",
    "    #   #   print(extracted.columns.values.size)    #30\n",
    "    print(extracted.iloc[0:5]['genre'])\n",
    "    #   print( f' type of genre now is : {type(extracted.iloc[0]['genre'])} ' )\n",
    "\n",
    "    #   SAVE !!!!!\n",
    "    # extract to destination\n",
    "    dst = './final_csv/anime_details.csv'\n",
    "    extracted.to_csv(dst, index=False)\n",
    "\n",
    "\n",
    "\n",
    "\n",
    "\n",
    "\n",
    "\n",
    "\n",
    "#   print output :  #   (success!!!)\n",
    "#   DBG : BEFORE purification\n",
    "#   0      Comedy, Supernatural, Romance, Shounen\n",
    "#   1    Comedy, Parody, Romance, School, Shounen\n",
    "#   2               Comedy, Magic, School, Shoujo\n",
    "#   3      Comedy, Drama, Magic, Romance, Fantasy\n",
    "#   4             Comedy, Drama, Romance, Shounen\n",
    "#   Name: genre, dtype: object\n",
    "#   <class 'str'>\n",
    "#   DBG : AFTER purification\n",
    "#   0      [Comedy, Supernatural, Romance, Shounen]\n",
    "#   1    [Comedy, Parody, Romance, School, Shounen]\n",
    "#   2               [Comedy, Magic, School, Shoujo]\n",
    "#   3      [Comedy, Drama, Magic, Romance, Fantasy]\n",
    "#   4             [Comedy, Drama, Romance, Shounen]\n",
    "#   Name: genre, dtype: object\n",
    "#   <class 'list'>"
   ]
  },
  {
   "cell_type": "code",
   "execution_count": null,
   "metadata": {},
   "outputs": [],
   "source": []
  }
 ],
 "metadata": {
  "kernelspec": {
   "display_name": "Python 3",
   "language": "python",
   "name": "python3"
  },
  "language_info": {
   "codemirror_mode": {
    "name": "ipython",
    "version": 3
   },
   "file_extension": ".py",
   "mimetype": "text/x-python",
   "name": "python",
   "nbconvert_exporter": "python",
   "pygments_lexer": "ipython3",
   "version": "3.12.0"
  }
 },
 "nbformat": 4,
 "nbformat_minor": 2
}
