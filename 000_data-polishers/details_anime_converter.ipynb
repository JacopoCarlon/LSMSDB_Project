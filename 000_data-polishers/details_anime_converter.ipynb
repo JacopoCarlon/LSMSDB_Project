{
 "cells": [
  {
   "cell_type": "code",
   "execution_count": 7,
   "metadata": {},
   "outputs": [
    {
     "name": "stderr",
     "output_type": "stream",
     "text": [
      "UsageError: Line magic function `%%python` not found.\n"
     ]
    }
   ],
   "source": [
    "#   %pip install pandas\n"
   ]
  },
  {
   "cell_type": "code",
   "execution_count": 3,
   "metadata": {},
   "outputs": [],
   "source": [
    "import sys\n",
    "import os\n",
    "import argparse\n",
    "import csv\n",
    "import json\n",
    "import pandas as pd\n"
   ]
  },
  {
   "cell_type": "code",
   "execution_count": 6,
   "metadata": {},
   "outputs": [],
   "source": [
    "already_created_dst_file = True\n",
    "#   - anime : [animeID, (count_reviews), avg_reviews ] \n",
    "#   - anime : details [animeID, episodes, ... ]\n",
    "\n",
    "if already_created_dst_file is not True :\n",
    "    #   read current file\n",
    "    filename = './000_unpolished_csv/anime_cleaned.csv'\n",
    "    firaw = pd.read_csv(filename, nrows= 10)\n",
    "    \n",
    "    print(f'head : {firaw.columns.values}')\n",
    "    #   head : ['anime_id' 'title' 'title_english' 'title_japanese' 'title_synonyms'\n",
    "    #           'image_url' 'type' 'source' 'episodes' 'status' 'airing' 'aired_string'\n",
    "    #           'aired' 'duration' 'rating' 'score' 'scored_by' 'rank' 'popularity'\n",
    "    #           'members' 'favorites' 'background' 'premiered' 'broadcast' 'related'\n",
    "    #           'producer' 'licensor' 'studio' 'genre' 'opening_theme' 'ending_theme'\n",
    "    #           'duration_min' 'aired_from_year']\n",
    "    #   print(f'{firaw.iloc[0]}')\n",
    "    \n",
    "    f_anime_details = './final_csv/anime_details.csv'\n",
    "    if not os.path.exists(f_anime_details):\n",
    "        with open(f_anime_details, 'w'): pass   \n",
    "    #   if not os.path.exists(f_anime_revs):\n",
    "    #       with open(f_anime_revs, 'w'): pass\n",
    "\n",
    "#   copy related only if type is not manga"
   ]
  },
  {
   "cell_type": "markdown",
   "metadata": {},
   "source": [
    "    head : ['anime_id' 'title' 'title_english' 'title_japanese' 'title_synonyms'\n",
    "     'image_url' 'type' 'source' 'episodes' 'status' 'airing' 'aired_string'\n",
    "     'aired' 'duration' 'rating' 'score' 'scored_by' 'rank' 'popularity'\n",
    "     'members' 'favorites' 'background' 'premiered' 'broadcast' 'related'\n",
    "     'producer' 'licensor' 'studio' 'genre' 'opening_theme' 'ending_theme'\n",
    "     'duration_min' 'aired_from_year']\n",
    "    anime_id                                                       11013\n",
    "    title                                                  Inu x Boku SS\n",
    "    title_english                              Inu X Boku Secret Service\n",
    "    title_japanese                                                妖狐×僕SS\n",
    "    title_synonyms                                       Youko x Boku SS\n",
    "    type                                                              TV\n",
    "    source                                                         Manga\n",
    "    episodes                                                          12\n",
    "    status                                               Finished Airing\n",
    "    airing                                                         False\n",
    "    aired_string                            Jan 13, 2012 to Mar 30, 2012\n",
    "    aired                     {'from': '2012-01-13', 'to': '2012-03-30'}\n",
    "    duration                                             24 min. per ep.\n",
    "    rating                                     PG-13 - Teens 13 or older\n",
    "    score                                                           7.63\n",
    "    scored_by                                                     139250\n",
    "    rank                                                          1274.0\n",
    "    popularity                                                       231\n",
    "    members                                                       283882\n",
    "    favorites                                                       2809\n",
    "    background         Inu x Boku SS was licensed by Sentai Filmworks...\n",
    "    premiered                                                Winter 2012\n",
    "    broadcast                                         Fridays at Unknown\n",
    "    related            {'Adaptation': [{'mal_id': 17207, 'type': 'man...\n",
    "    producer           Aniplex, Square Enix, Mainichi Broadcasting Sy...\n",
    "    licensor                                            Sentai Filmworks\n",
    "    studio                                              David Production\n",
    "    genre                         Comedy, Supernatural, Romance, Shounen\n",
    "    duration_min                                                    24.0\n",
    "    aired_from_year                                               2012.0\n",
    "\n"
   ]
  },
  {
   "cell_type": "code",
   "execution_count": 4,
   "metadata": {},
   "outputs": [
    {
     "name": "stdout",
     "output_type": "stream",
     "text": [
      "lenght of target cols : 30\n"
     ]
    }
   ],
   "source": [
    "list_anime_details = [\n",
    "                'anime_id' , 'title' , 'title_english' , 'title_japanese' , \n",
    "                'title_synonyms' , 'type' , 'source' , 'episodes' , \n",
    "                'status' , 'airing' , 'aired_string' , 'aired' , \n",
    "                'duration' , 'rating' , 'score' , 'scored_by' , \n",
    "                'rank' , 'popularity' , 'members' , 'favorites' , \n",
    "                'background' , 'premiered' , 'broadcast' , 'related' , \n",
    "                'producer' , 'licensor' , 'studio' , 'genre' , \n",
    "                'duration_min' , 'aired_from_year' \n",
    "                ]\n",
    "print(f'lenght of target cols : {len(list_anime_details)}')\n",
    "\n",
    "\n",
    "transfer_data = False\n",
    "\n",
    "if transfer_data == True:\n",
    "    # read from source\n",
    "    src = './000_unpolished_csv/anime_cleaned.csv'\n",
    "    file_base = pd.read_csv(src)\n",
    "    extracted = file_base[list_anime_details]\n",
    "    #   print(extracted.columns.values.size)\n",
    "\n",
    "    # extract to destination\n",
    "    dst = './final_csv/anime_details.csv'\n",
    "    extracted.to_csv(dst, index=False)"
   ]
  },
  {
   "cell_type": "code",
   "execution_count": null,
   "metadata": {},
   "outputs": [],
   "source": []
  }
 ],
 "metadata": {
  "kernelspec": {
   "display_name": "Python 3",
   "language": "python",
   "name": "python3"
  },
  "language_info": {
   "codemirror_mode": {
    "name": "ipython",
    "version": 3
   },
   "file_extension": ".py",
   "mimetype": "text/x-python",
   "name": "python",
   "nbconvert_exporter": "python",
   "pygments_lexer": "ipython3",
   "version": "3.12.0"
  }
 },
 "nbformat": 4,
 "nbformat_minor": 2
}
