{
 "cells": [
  {
   "cell_type": "code",
   "execution_count": 7,
   "metadata": {},
   "outputs": [
    {
     "name": "stderr",
     "output_type": "stream",
     "text": [
      "UsageError: Line magic function `%%python` not found.\n"
     ]
    }
   ],
   "source": [
    "#   %pip install pandas\n"
   ]
  },
  {
   "cell_type": "code",
   "execution_count": 1,
   "metadata": {},
   "outputs": [],
   "source": [
    "import sys\n",
    "import os\n",
    "import argparse\n",
    "import csv\n",
    "import json\n",
    "import pandas as pd\n"
   ]
  },
  {
   "cell_type": "code",
   "execution_count": 3,
   "metadata": {},
   "outputs": [],
   "source": [
    "already_created_dst_file = True\n",
    "#   - anime : [animeID, (count_reviews), avg_reviews ] \n",
    "#   - anime : details [animeID, episodes, ... ]\n",
    "\n",
    "if already_created_dst_file is not True :\n",
    "    #   read current file\n",
    "    filename = './000_unpolished_csv/users_cleaned.csv'\n",
    "    firaw = pd.read_csv(filename, nrows= 10)\n",
    "    print(f'head : {firaw.columns.values}')\n",
    "    #   head : ['username' 'user_id' 'user_watching' 'user_completed' 'user_onhold'\n",
    "    #            'user_dropped' 'user_plantowatch' 'user_days_spent_watching' 'gender'\n",
    "    #            'location' 'birth_date' 'access_rank' 'join_date' 'last_online'\n",
    "    #            'stats_mean_score' 'stats_rewatched' 'stats_episodes']\n",
    "    \n",
    "    f_user_details = './final_csv/user_details.csv'\n",
    "    if not os.path.exists(f_user_details):\n",
    "        with open(f_user_details, 'w'): pass   \n",
    "\n",
    "#   copy related only if type is not manga"
   ]
  },
  {
   "cell_type": "markdown",
   "metadata": {},
   "source": [
    "    head : ['username' 'user_id' 'user_watching' 'user_completed' 'user_onhold'\n",
    "     'user_dropped' 'user_plantowatch' 'user_days_spent_watching' 'gender'\n",
    "     'location' 'birth_date' 'access_rank' 'join_date' 'last_online'\n",
    "     'stats_mean_score' 'stats_rewatched' 'stats_episodes']\n",
    "    \n",
    "    user_id                                 2255153\n",
    "    username                               karthiga\n",
    "    user_watching                                 3\n",
    "    user_completed                               49\n",
    "    user_onhold                                   1\n",
    "    user_dropped                                  0\n",
    "    user_plantowatch                              0\n",
    "    user_days_spent_watching              55.091667\n",
    "    gender                                   Female\n",
    "    birth_date                  1990-04-29 00:00:00\n",
    "    access_rank                                 NaN\n",
    "    join_date                   2013-03-03 00:00:00\n",
    "    stats_mean_score                           7.43\n",
    "    stats_rewatched                             0.0\n",
    "    stats_episodes                             3391\n",
    "    Name: 0, dtype: object"
   ]
  },
  {
   "cell_type": "code",
   "execution_count": 18,
   "metadata": {},
   "outputs": [],
   "source": [
    "#   add email, password\n",
    "\n",
    "list_user_details = [ \n",
    "                'user_id' , \n",
    "                'username' , \n",
    "                'user_watching' , \n",
    "                'user_completed' , \n",
    "                'user_onhold' , \n",
    "                'user_dropped' , \n",
    "                'user_plantowatch' , \n",
    "                'user_days_spent_watching' , \n",
    "                'gender' , \n",
    "                'birth_date' , \n",
    "                'access_rank' , \n",
    "                'join_date' , \n",
    "                'stats_rewatched' , \n",
    "                'stats_episodes'  \n",
    "                ]\n",
    "\n",
    "expanded_list_user_details = [ \n",
    "                    'user_id'  \n",
    "                ,   'username'  \n",
    "                ,   'name'              #   from rng gen lists\n",
    "                ,   'surname'           #   from rng gen lists\n",
    "                ,   'email' \n",
    "                ,   'password' \n",
    "                ,   'gender'  \n",
    "                ,   'birth_date'  \n",
    "                ,   'join_date'  \n",
    "                ,   'stats_episodes'  \n",
    "                ,   'most_recent_reviews'\n",
    "            ]\n",
    "\n",
    "#   print(f'lenght of target cols : {len(list_user_details)}')\n",
    "\n",
    "\n",
    "transfer_data = False\n",
    "\n",
    "if transfer_data == True:\n",
    "    # read from source\n",
    "    src = './000_unpolished_csv/users_cleaned.csv'\n",
    "    file_base = pd.read_csv(src)\n",
    "    extracted = file_base[list_user_details]\n",
    "    #   print(extracted.columns.values.size)\n",
    "    \n",
    "    # now we need to add email e password\n",
    "    extracted['email'] = extracted.apply( lambda row: f'{row['username']}@gmail.com' , axis=1 )\n",
    "    extracted['password'] = extracted.apply( lambda row: f'{row['username']}{row['birth_date'].split(' ')[0].replace('-','')}' , axis=1 ) \n",
    "\n",
    "    # now we reorder it !\n",
    "    extracted = extracted.reindex(columns=expanded_list_user_details)\n",
    "    #   print(extracted.iloc[0])\n",
    "    \n",
    "    # extract to destination\n",
    "    dst = './final_csv/user_details.csv'\n",
    "    extracted.to_csv(dst, index=False)\n",
    "\n",
    "\n",
    "#   print output :  #   (success!!!)\n",
    "#   user_id                                 2255153     \n",
    "#   username                               karthiga     \n",
    "#   email                        karthiga@gmail.com     \n",
    "#   password                       karthiga19900429     \n",
    "#   user_watching                                 3     \n",
    "#   user_completed                               49     \n",
    "#   user_onhold                                   1     \n",
    "#   user_dropped                                  0     \n",
    "#   user_plantowatch                              0     \n",
    "#   user_days_spent_watching              55.091667     \n",
    "#   gender                                   Female     \n",
    "#   birth_date                  1990-04-29 00:00:00     \n",
    "#   access_rank                                 NaN     \n",
    "#   join_date                   2013-03-03 00:00:00     \n",
    "#   stats_rewatched                             0.0     \n",
    "#   stats_episodes                             3391      \n",
    "\n",
    "#   "
   ]
  }
 ],
 "metadata": {
  "kernelspec": {
   "display_name": "Python 3",
   "language": "python",
   "name": "python3"
  },
  "language_info": {
   "codemirror_mode": {
    "name": "ipython",
    "version": 3
   },
   "file_extension": ".py",
   "mimetype": "text/x-python",
   "name": "python",
   "nbconvert_exporter": "python",
   "pygments_lexer": "ipython3",
   "version": "3.12.0"
  }
 },
 "nbformat": 4,
 "nbformat_minor": 2
}
