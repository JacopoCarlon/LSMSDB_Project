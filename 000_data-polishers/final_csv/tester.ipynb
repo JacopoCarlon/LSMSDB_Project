{
 "cells": [
  {
   "cell_type": "code",
   "execution_count": 1,
   "metadata": {},
   "outputs": [
    {
     "name": "stderr",
     "output_type": "stream",
     "text": [
      "C:\\Users\\Admin\\AppData\\Local\\Temp\\ipykernel_16676\\1788589773.py:14: DtypeWarning: Columns (7) have mixed types. Specify dtype option on import or set low_memory=False.\n",
      "  thisdf = pd.read_csv(namefile)\n"
     ]
    },
    {
     "name": "stdout",
     "output_type": "stream",
     "text": [
      "               username  anime_id  count\n",
      "0         ----phoebelyn         1      1\n",
      "1             Zekmer002     14829      1\n",
      "2             Zekmer002     21881      1\n",
      "3             Zekmer002     20509      1\n",
      "4             Zekmer002     20047      1\n",
      "...                 ...       ...    ...\n",
      "31283782           Laxu      2593      1\n",
      "31283783           Laxu      2581      1\n",
      "31283784           Laxu      2571      1\n",
      "31283785           Laxu      2539      1\n",
      "31283786     zzzzz-chan     36456      1\n",
      "\n",
      "[31283787 rows x 3 columns]\n"
     ]
    }
   ],
   "source": [
    "import sys\n",
    "import os\n",
    "import csv\n",
    "import json\n",
    "import pandas as pd\n",
    "import time\n",
    "import random\n",
    "import pickle\n",
    "\n",
    "#   ['username', 'anime_id', 'my_score', 'text']\n",
    "\n",
    "filename = './0final_anime_revs.csv'\n",
    "with open(filename, 'rb') as namefile :\n",
    "    thisdf = pd.read_csv(namefile)\n",
    "\n",
    "#   result = thisdf.groupby(['username', 'anime_id']).size()\n",
    "\n",
    "#   thisdf['sommatoria'] = thisdf.groupby(['username', 'anime_id']).agg( 'sum' )\n",
    "#   thisdf.groupby([\"username\", \"anime_id\"]).count().reset_index(name=\"count\")\n",
    "newdf = thisdf.value_counts(['username', 'anime_id']).reset_index(name='count')\n",
    "\n",
    "print(newdf)\n",
    "\n"
   ]
  },
  {
   "cell_type": "code",
   "execution_count": 2,
   "metadata": {},
   "outputs": [
    {
     "name": "stdout",
     "output_type": "stream",
     "text": [
      "31283787\n",
      "31283787\n"
     ]
    }
   ],
   "source": [
    "print(len(newdf))\n",
    "\n",
    "ciao = newdf.loc[newdf['count'] == 1]\n",
    "print(len(ciao))"
   ]
  }
 ],
 "metadata": {
  "kernelspec": {
   "display_name": "Python 3",
   "language": "python",
   "name": "python3"
  },
  "language_info": {
   "codemirror_mode": {
    "name": "ipython",
    "version": 3
   },
   "file_extension": ".py",
   "mimetype": "text/x-python",
   "name": "python",
   "nbconvert_exporter": "python",
   "pygments_lexer": "ipython3",
   "version": "3.12.0"
  }
 },
 "nbformat": 4,
 "nbformat_minor": 2
}
