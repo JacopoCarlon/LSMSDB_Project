{
 "cells": [
  {
   "cell_type": "code",
   "execution_count": 4,
   "metadata": {},
   "outputs": [
    {
     "name": "stdout",
     "output_type": "stream",
     "text": [
      "Requirement already satisfied: pandas in c:\\users\\admin\\appdata\\local\\programs\\python\\python312\\lib\\site-packages (2.1.4)\n",
      "Requirement already satisfied: numpy<2,>=1.26.0 in c:\\users\\admin\\appdata\\local\\programs\\python\\python312\\lib\\site-packages (from pandas) (1.26.2)\n",
      "Requirement already satisfied: python-dateutil>=2.8.2 in c:\\users\\admin\\appdata\\local\\programs\\python\\python312\\lib\\site-packages (from pandas) (2.8.2)\n",
      "Requirement already satisfied: pytz>=2020.1 in c:\\users\\admin\\appdata\\local\\programs\\python\\python312\\lib\\site-packages (from pandas) (2023.3.post1)\n",
      "Requirement already satisfied: tzdata>=2022.1 in c:\\users\\admin\\appdata\\local\\programs\\python\\python312\\lib\\site-packages (from pandas) (2023.4)\n",
      "Requirement already satisfied: six>=1.5 in c:\\users\\admin\\appdata\\local\\programs\\python\\python312\\lib\\site-packages (from python-dateutil>=2.8.2->pandas) (1.16.0)\n",
      "Note: you may need to restart the kernel to use updated packages.\n"
     ]
    }
   ],
   "source": [
    "%pip install pandas\n"
   ]
  },
  {
   "cell_type": "code",
   "execution_count": 5,
   "metadata": {},
   "outputs": [],
   "source": [
    "import sys\n",
    "import os\n",
    "import argparse\n",
    "import csv\n",
    "import json\n",
    "import pandas as pd\n"
   ]
  },
  {
   "cell_type": "code",
   "execution_count": 8,
   "metadata": {},
   "outputs": [
    {
     "name": "stdout",
     "output_type": "stream",
     "text": [
      "head : ['username' 'anime_id' 'my_watched_episodes' 'my_start_date'\n",
      " 'my_finish_date' 'my_score' 'my_status' 'my_rewatching'\n",
      " 'my_rewatching_ep' 'my_last_updated' 'my_tags']\n",
      "username                          karthiga\n",
      "anime_id                                21\n",
      "my_watched_episodes                    586\n",
      "my_start_date                   0000-00-00\n",
      "my_finish_date                  0000-00-00\n",
      "my_score                                 9\n",
      "my_status                                1\n",
      "my_rewatching                          NaN\n",
      "my_rewatching_ep                         0\n",
      "my_last_updated        2013-03-03 10:52:53\n",
      "my_tags                                NaN\n",
      "Name: 0, dtype: object\n"
     ]
    }
   ],
   "source": [
    "already_created_dst_file = False\n",
    "#   - anime : [animeID, (count_reviews), avg_reviews ] \n",
    "#   - anime : details [animeID, episodes, ... ]\n",
    "\n",
    "if already_created_dst_file is not True :\n",
    "    #   read current file\n",
    "    filename = './000_unpolished_csv/animelists_cleaned.csv'\n",
    "    firaw = pd.read_csv(filename, nrows= 10)\n",
    "    print(f'head : {firaw.columns.values}')\n",
    "    #   head : ['username' 'user_id' 'user_watching' 'user_completed' 'user_onhold'\n",
    "    #            'user_dropped' 'user_plantowatch' 'user_days_spent_watching' 'gender'\n",
    "    #            'location' 'birth_date' 'access_rank' 'join_date' 'last_online'\n",
    "    #            'stats_mean_score' 'stats_rewatched' 'stats_episodes']\n",
    "    \n",
    "    print(f'{firaw.iloc[0]}')\n",
    "\n",
    "    f_anime_rews = './final_csv/anime_revs.csv'\n",
    "    if not os.path.exists(f_anime_rews):\n",
    "        with open(f_anime_rews, 'w'): pass   \n",
    "\n",
    "#   copy related only if type is not manga"
   ]
  },
  {
   "cell_type": "markdown",
   "metadata": {},
   "source": [
    "    head : ['username' 'anime_id' 'my_watched_episodes' 'my_start_date'\n",
    "     'my_finish_date' 'my_score' 'my_status' 'my_rewatching'\n",
    "     'my_rewatching_ep' 'my_last_updated' 'my_tags']\n",
    "\n",
    "    user_id                     !!!!!!!!!!!!!! NOT FOR NOW\n",
    "    username                          karthiga\n",
    "    anime_id                                21\n",
    "    animename                   !!!!!!!!!!!!!! NOT FOR NOW\n",
    "    my_watched_episodes                    586\n",
    "    my_score                                 9\n",
    "    my_status                                1\n",
    "    my_rewatching                          NaN\n",
    "    my_rewatching_ep                         0\n",
    "    my_rev_time                 !!!!!!! _ set emtpy\n",
    "    my_rev_text                 !!!!!!! _ set emtpy\n",
    "\n",
    "    Name: 0, dtype: object"
   ]
  },
  {
   "cell_type": "code",
   "execution_count": 13,
   "metadata": {},
   "outputs": [
    {
     "name": "stdout",
     "output_type": "stream",
     "text": [
      "length of target cols : 7\n",
      "DBG -> the end\n"
     ]
    }
   ],
   "source": [
    "#   add email, password\n",
    "\n",
    "list_anime_revs = [ \n",
    "                'username' , \n",
    "                'anime_id',\n",
    "                'my_watched_episodes' , \n",
    "                'my_score' , \n",
    "                'my_status' , \n",
    "                'my_rewatching' , \n",
    "                'my_rewatching_ep' \n",
    "                ]\n",
    "\n",
    "expanded_list_anime_revs = [ \n",
    "                'user_id' , \n",
    "                'username' , \n",
    "                'anime_id',\n",
    "                'animename',\n",
    "                'my_watched_episodes' , \n",
    "                'my_score' , \n",
    "                'my_status' , \n",
    "                'my_rewatching' , \n",
    "                'my_rewatching_ep' , \n",
    "                'my_rev_time' , \n",
    "                'my_rev_text' \n",
    "                ]\n",
    "\n",
    "print(f'length of target cols : {len(list_anime_revs)}')\n",
    "\n",
    "\n",
    "transfer_data = False\n",
    "\n",
    "if transfer_data == True:\n",
    "    import pandas as pd\n",
    "    import time\n",
    "\n",
    "    zero_time = time.time()\n",
    "\n",
    "    # read from source\n",
    "    src = './000_unpolished_csv/animelists_cleaned.csv'\n",
    "    file_base = pd.read_csv(src)\n",
    "    load_time = time.time()\n",
    "\n",
    "    extracted = file_base[list_anime_revs]\n",
    "    print(f'length of extr cols : {extracted.columns.values.size} ' )\n",
    "    extract_time = time.time()\n",
    "\n",
    "    # add two empty cols .\n",
    "    extracted['my_rev_time'] = ''\n",
    "    extracted['my_rev_text'] = ''\n",
    "\n",
    "    expand_time = time.time()\n",
    "    \n",
    "\n",
    "    should_save_now = False\n",
    "    # SAVE to destination\n",
    "\n",
    "    if should_save_now == True :\n",
    "        dst = './final_csv/anime_revs.csv'\n",
    "        extracted.to_csv(dst, index=False)\n",
    "    save_time = time.time()\n",
    "\n",
    "\n",
    "    print(extracted.iloc[0])\n",
    "    print(f'read-time : { load_time - zero_time } ;\\n' +\\\n",
    "          f'extr-time : { extract_time - load_time } ;\\n' +\\\n",
    "          f'adds-time : { expand_time - extract_time } ;\\n' +\\\n",
    "          f'save-time : { save_time - expand_time } ;\\n'\n",
    "          )\n",
    "\n",
    "print(\"DBG -> the end\")\n",
    "\n",
    "\n",
    "\n",
    "#   print output :  #   (success!!!)\n",
    "#   length of target cols : 7\n",
    "#   length of extr cols : 7 \n",
    "#   C:\\Users\\Admin\\AppData\\Local\\Temp\\ipykernel_3008\\519891022.py:48: SettingWithCopyWarning: \n",
    "#   A value is trying to be set on a copy of a slice from a DataFrame.\n",
    "#   Try using .loc[row_indexer,col_indexer] = value instead\n",
    "#   \n",
    "#   See the caveats in the documentation: https://pandas.pydata.org/pandas-docs/stable/user_guide/indexing.html#returning-a-view-versus-a-copy\n",
    "#     extracted['my_rev_time'] = ''\n",
    "#   C:\\Users\\Admin\\AppData\\Local\\Temp\\ipykernel_3008\\519891022.py:49: SettingWithCopyWarning: \n",
    "#   A value is trying to be set on a copy of a slice from a DataFrame.\n",
    "#   Try using .loc[row_indexer,col_indexer] = value instead\n",
    "#   \n",
    "#   See the caveats in the documentation: https://pandas.pydata.org/pandas-docs/stable/user_guide/indexing.html#returning-a-view-versus-a-copy\n",
    "#     extracted['my_rev_text'] = ''\n",
    "#   username               karthiga\n",
    "#   anime_id                     21\n",
    "#   my_watched_episodes         586\n",
    "#   my_score                      9\n",
    "#   my_status                     1\n",
    "#   my_rewatching               NaN\n",
    "#   my_rewatching_ep              0\n",
    "#   my_rev_time                    \n",
    "#   my_rev_text                    \n",
    "#   Name: 0, dtype: object\n",
    "#   read-time : 26.42366933822632 ;\n",
    "#   extr-time : 0.5129969120025635 ;\n",
    "#   adds-time : 0.15397167205810547 ;\n",
    "#   save-time : 42.23317861557007 ;\n",
    "#   DBG -> the end\n",
    "\n",
    "\n"
   ]
  }
 ],
 "metadata": {
  "kernelspec": {
   "display_name": "Python 3",
   "language": "python",
   "name": "python3"
  },
  "language_info": {
   "codemirror_mode": {
    "name": "ipython",
    "version": 3
   },
   "file_extension": ".py",
   "mimetype": "text/x-python",
   "name": "python",
   "nbconvert_exporter": "python",
   "pygments_lexer": "ipython3",
   "version": "3.12.0"
  }
 },
 "nbformat": 4,
 "nbformat_minor": 2
}
