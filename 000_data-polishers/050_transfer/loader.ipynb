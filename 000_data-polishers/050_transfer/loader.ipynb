{
 "cells": [
  {
   "cell_type": "code",
   "execution_count": 9,
   "metadata": {},
   "outputs": [
    {
     "name": "stdout",
     "output_type": "stream",
     "text": [
      "Requirement already satisfied: pandas in c:\\users\\jacop\\appdata\\local\\programs\\python\\python312\\lib\\site-packages (2.2.2)\n",
      "Requirement already satisfied: numpy>=1.26.0 in c:\\users\\jacop\\appdata\\local\\programs\\python\\python312\\lib\\site-packages (from pandas) (2.0.0)\n",
      "Requirement already satisfied: python-dateutil>=2.8.2 in c:\\users\\jacop\\appdata\\roaming\\python\\python312\\site-packages (from pandas) (2.9.0.post0)\n",
      "Requirement already satisfied: pytz>=2020.1 in c:\\users\\jacop\\appdata\\local\\programs\\python\\python312\\lib\\site-packages (from pandas) (2024.1)\n",
      "Requirement already satisfied: tzdata>=2022.7 in c:\\users\\jacop\\appdata\\local\\programs\\python\\python312\\lib\\site-packages (from pandas) (2024.1)\n",
      "Requirement already satisfied: six>=1.5 in c:\\users\\jacop\\appdata\\roaming\\python\\python312\\site-packages (from python-dateutil>=2.8.2->pandas) (1.16.0)\n",
      "Note: you may need to restart the kernel to use updated packages.\n"
     ]
    }
   ],
   "source": [
    "%pip install pandas\n"
   ]
  },
  {
   "cell_type": "code",
   "execution_count": 3,
   "metadata": {},
   "outputs": [],
   "source": [
    "import csv\n",
    "import os\n",
    "import json\n",
    "import sys\n",
    "import pickle\n",
    "import pandas as pd\n",
    "\n",
    "\n",
    "\n",
    "\n"
   ]
  },
  {
   "cell_type": "code",
   "execution_count": 33,
   "metadata": {},
   "outputs": [
    {
     "name": "stdout",
     "output_type": "stream",
     "text": [
      "\n",
      "\n",
      "Kyoto Animations greatest strength is being able to create amazing characters, and then torturing with Supernatural happenings and in this case also; life itself. It′s about friendship, growing up, love and loss.   Everything about this anime is amazing, but if I have to say what is the best part about Clannad: After Story, It′s it′s characters.  I think everyone would want a Tomoya as a husband, a Nagisa as a wife, an Akio as father-in-law, a Sanae as mother-in-law, Sunohara as your best friend, Mei as a little sister, Ushio as a daughter, Yoshino as a Colleague and in the end; even a Naoyuki as a father.   Tomoya is a huge role model for me, how awful his life might get he still keeps going. He has shown me how huge of a wuss I am. He cries a lot in this anime and I dont think he is less manly for it(Since I cried with him).I really enjoy the types of leads that are sarcastic trolls and gentlemanlike at the same time(Like Yuuichi from Kanon), which can lead to very humorous but also very dramatic moments.  Some people might think the ending makes no sense, and to those people i say(I can′t stand them): Pay attention!  The anime gives hints to what is going to happen, Think of what happens after Tomoya helps Fuko, Kotomi, Yukine and Naoyuki but also the whole  girl in the illusionary world  arc.  In my opinion the ending beautifully ties everything together, with help of the amazing song:  Chiisana Te No Hira , which I still cannot listen without getting goosebumps. Which also gives a great ending to the story of the relationship between Tomoya and his dad Naoyuki.  Clannad has changed my look on life for ever, And therefore I give it a 10/10, and have reserved the 10/10 slot on MAL for the series and only this series, because It′s a different level of masterpiece.  I highly reccomend you watch it\n"
     ]
    }
   ],
   "source": [
    "with open('./cleaned_score_revs.pkl', 'rb') as readfile :\n",
    "    loaded = pickle.load(readfile)\n",
    "\n",
    "#   print(f'number revs : {len(loaded)}')\n",
    "#   print(f'lenght each rev : {len(loaded[0])}')\n",
    "it = 4\n",
    "#   print(f'first 3 elements of rev {it} : {loaded[it][:3]}')\n",
    "\n",
    "#   for sent in loaded[it][3]:\n",
    "#       print(sent)\n",
    "caratteri =['“', '′', '”' ]\n",
    "\n",
    "def compressor(listotext) :\n",
    "    frase = ''\n",
    "    for pezzo in listotext:\n",
    "        frase = frase + pezzo\n",
    "    aaa = frase.replace('\\r', ' ').replace('\\n', ' ')\n",
    "    bbb = aaa.replace('\"', ' ').replace(\"'\", '′')\n",
    "    purified = bbb.strip()\n",
    "    if len(purified) > 4090 :\n",
    "        return purified[:4085]\n",
    "    else :\n",
    "        return purified\n",
    "    return frase.replace('\"','\\\\\"').replace(\"'\",\"\\\\'\")\n",
    "\n",
    "\n",
    "reindex_vals = ['username', 'anime_id', 'score', 'text']\n",
    "revdf = pd.DataFrame(loaded, columns=reindex_vals)\n",
    "\n",
    "#   print(f'\\n\\n{revdf.iloc[4]}')\n",
    "#   print(f'\\n\\n{len(revdf.iloc[4]['text'])}')\n",
    "#   print(f'\\n\\n{type(revdf.iloc[4]['text'])}')\n",
    "\n",
    "revdf['text'] = revdf.apply( lambda row : compressor(row['text']) , axis=1 )\n",
    "\n",
    "\n",
    "#   print(f'\\n\\n{revdf.iloc[0:5]}')\n",
    "\n",
    "#   print(f'\\n\\n{revdf.iloc[4]}')\n",
    "#   print(f'\\n\\n{len(revdf.iloc[4]['text'])}')\n",
    "#   print(f'\\n\\n{type(revdf.iloc[4]['text'])}')\n",
    "print(f'\\n\\n{revdf.iloc[4]['text']}')\n",
    "\n",
    "dst = './ciaociaorevs.csv'\n",
    "if not os.path.exists(dst):\n",
    "    with open(dst, 'w') :\n",
    "        pass\n",
    "revdf.to_csv(dst, index=False)\n"
   ]
  }
 ],
 "metadata": {
  "kernelspec": {
   "display_name": "Python 3",
   "language": "python",
   "name": "python3"
  },
  "language_info": {
   "codemirror_mode": {
    "name": "ipython",
    "version": 3
   },
   "file_extension": ".py",
   "mimetype": "text/x-python",
   "name": "python",
   "nbconvert_exporter": "python",
   "pygments_lexer": "ipython3",
   "version": "3.12.3"
  }
 },
 "nbformat": 4,
 "nbformat_minor": 2
}
